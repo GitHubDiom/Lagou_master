{
 "cells": [
  {
   "cell_type": "code",
   "execution_count": 86,
   "metadata": {},
   "outputs": [
    {
     "data": {
      "text/plain": [
       "{'Hadoop': 225,\n",
       " 'Python': 1750,\n",
       " 'Ruby': 121,\n",
       " 'iOS': 4046,\n",
       " '区块链': 1064,\n",
       " '图像处理': 145,\n",
       " '机器学习': 735,\n",
       " '机器视觉': 3247,\n",
       " '深度学习': 486,\n",
       " '算法工程师': 4365,\n",
       " '语音识别': 421}"
      ]
     },
     "execution_count": 86,
     "metadata": {},
     "output_type": "execute_result"
    }
   ],
   "source": [
    "import pandas as pd\n",
    "from pandas import DataFrame\n",
    "csvFile =  open('E:\\Microsoft VS Code\\Projects\\LagouJob-master\\spider\\data\\Info.csv','r',encoding='utf-8')\n",
    "df = pd.read_csv(csvFile)\n",
    "degree_set = df.职业类别.unique()\n",
    "city_set = df.所在城市.unique()\n",
    "job_set = df.职业类别.unique()\n",
    "degree_set = df.最低学历.unique()\n",
    "list_dd = ['所在城市','最低学历','职业类别']\n",
    "#df[df.职业类别.isin(degree_set)].薪资待遇.mean()\n",
    "dict(df.职业类别.value_counts())"
   ]
  },
  {
   "cell_type": "code",
   "execution_count": null,
   "metadata": {},
   "outputs": [],
   "source": []
  }
 ],
 "metadata": {
  "kernelspec": {
   "display_name": "Python 3",
   "language": "python",
   "name": "python3"
  },
  "language_info": {
   "codemirror_mode": {
    "name": "ipython",
    "version": 3
   },
   "file_extension": ".py",
   "mimetype": "text/x-python",
   "name": "python",
   "nbconvert_exporter": "python",
   "pygments_lexer": "ipython3",
   "version": "3.6.0"
  }
 },
 "nbformat": 4,
 "nbformat_minor": 2
}
